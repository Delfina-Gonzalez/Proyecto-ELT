{
 "cells": [
  {
   "cell_type": "markdown",
   "id": "34ae3bbf",
   "metadata": {},
   "source": [
    "# 🚀 Proyecto ELT con SpaceX API  \n",
    "## Notebook 02 – Transformación de datos\n",
    "\n",
    "En este notebook se aplican tareas de **procesamiento y transformación de datos con Pandas**, según la consigna:  \n",
    "\n",
    "- Eliminación de duplicados.  \n",
    "- Manejo de valores nulos.  \n",
    "- Renombrado de columnas.  \n",
    "- Conversión de tipos.  \n",
    "- Creación de nuevas columnas.  \n",
    "- Unión (JOIN) entre DataFrames.  \n"
   ]
  },
  {
   "cell_type": "code",
   "execution_count": null,
   "id": "2070ff77",
   "metadata": {},
   "outputs": [],
   "source": [
    "import sys\n",
    "\n",
    "# Ajusto para que la reconozca la ruta del proyecto\n",
    "sys.path.append(\"..\") \n",
    "\n",
    "# --- IMPORTS ---\n",
    "from src.extract import fetch_data\n",
    "from src.transform import drop_duplicates, handle_nulls, rename_columns, convert_column_types, create_new_column, join_dataframes\n",
    "from src.utils import setup_logger\n",
    "\n",
    "# --- LOGGER ---\n",
    "logger = setup_logger()\n",
    "logger.info(\"Inicio de transformaciones de datos\")\n"
   ]
  },
  {
   "cell_type": "markdown",
   "id": "257bd41a",
   "metadata": {},
   "source": [
    "## 📥 Lectura de datos\n",
    "\n",
    "Se reextraen los datasets desde la API (también se podrían leer desde Delta Lake).  \n",
    "Trabajaremos principalmente con:  \n",
    "- **Próximos lanzamientos** (`upcoming_launches`)  \n",
    "- **Cohetes** (`rockets`)  \n"
   ]
  },
  {
   "cell_type": "code",
   "execution_count": null,
   "id": "28a894c4",
   "metadata": {},
   "outputs": [],
   "source": [
    "# Extracción de datos a transformar\n",
    "df_upcoming = fetch_data(\"upcoming_launches\")\n",
    "df_rockets = fetch_data(\"rockets\")\n"
   ]
  },
  {
   "cell_type": "markdown",
   "id": "ed47d40b",
   "metadata": {},
   "source": [
    "## 🛠 Transformaciones aplicadas\n",
    "1. **Eliminar duplicados**.  \n",
    "2. **Rellenar valores nulos** en la columna `details`.  \n",
    "3. **Renombrar columnas** para mayor claridad (`date_utc → fecha_lanzamiento`).  \n",
    "4. **Conversión de tipos** de fecha.  \n",
    "5. **Nueva columna**: indicador booleano si el lanzamiento es en 2025.  \n",
    "6. **Join** entre lanzamientos y cohetes.  \n"
   ]
  },
  {
   "cell_type": "code",
   "execution_count": null,
   "id": "2026e974",
   "metadata": {},
   "outputs": [],
   "source": [
    "# 1. Eliminar duplicados\n",
    "df_upcoming = drop_duplicates(df_upcoming)\n",
    "\n",
    "# 2. Manejo de nulos\n",
    "df_upcoming = handle_nulls(df_upcoming, cols=[\"details\"], fill_value=\"Sin descripción\")\n",
    "\n",
    "# 3. Renombrar columnas\n",
    "df_upcoming = rename_columns(df_upcoming, {\"date_utc\": \"fecha_lanzamiento\"})\n",
    "\n",
    "# 4. Conversión de tipos\n",
    "df_upcoming = convert_column_types(df_upcoming, {\"fecha_lanzamiento\": \"datetime64[ns]\"})\n",
    "\n",
    "# 5. Nueva columna: ¿lanzamiento en 2025?\n",
    "df_upcoming = create_new_column(\n",
    "    df_upcoming,\n",
    "    \"es_2025\",\n",
    "    lambda row: row[\"fecha_lanzamiento\"].year == 2025 if row[\"fecha_lanzamiento\"] is not pd.NaT else False\n",
    ")\n",
    "\n",
    "# 6. Join con info de cohetes\n",
    "df_final = join_dataframes(df_upcoming, df_rockets, key=\"rocket\")\n",
    "\n",
    "logger.info(f\"Transformaciones aplicadas. Total de registros finales: {len(df_final)}\")\n"
   ]
  },
  {
   "cell_type": "markdown",
   "id": "c8d6eb24",
   "metadata": {},
   "source": [
    "## 👀 Vista de resultados\n",
    "\n",
    "Mostramos algunas columnas seleccionadas del DataFrame final:  \n"
   ]
  },
  {
   "cell_type": "code",
   "execution_count": null,
   "id": "7273aa9d",
   "metadata": {},
   "outputs": [],
   "source": [
    "df_final[[\"name_x\", \"fecha_lanzamiento\", \"es_2025\", \"name_y\", \"active\"]].head()\n"
   ]
  }
 ],
 "metadata": {
  "language_info": {
   "name": "python"
  }
 },
 "nbformat": 4,
 "nbformat_minor": 5
}
